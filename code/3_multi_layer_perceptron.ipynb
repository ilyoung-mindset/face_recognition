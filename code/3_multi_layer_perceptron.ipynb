{
 "cells": [
  {
   "cell_type": "markdown",
   "metadata": {},
   "source": [
    "# MULTI-LAYER PERCEPTRON\n",
    "## FOR FACE RECOGNITION"
   ]
  },
  {
   "cell_type": "code",
   "execution_count": 1,
   "metadata": {
    "collapsed": false
   },
   "outputs": [
    {
     "name": "stdout",
     "output_type": "stream",
     "text": [
      "Packages loaded\n"
     ]
    }
   ],
   "source": [
    "import os\n",
    "import numpy as np\n",
    "import tensorflow as tf\n",
    "import matplotlib.pyplot as plt\n",
    "%matplotlib inline  \n",
    "print (\"Packages loaded\")"
   ]
  },
  {
   "cell_type": "markdown",
   "metadata": {},
   "source": [
    "# LOAD DATA"
   ]
  },
  {
   "cell_type": "code",
   "execution_count": 2,
   "metadata": {
    "collapsed": false
   },
   "outputs": [
    {
     "name": "stdout",
     "output_type": "stream",
     "text": [
      "['trainlabel', 'trainimg', 'imgsize', 'testimg', 'testlabel']\n",
      "5242 TRAIN IMAGES\n",
      "1311 TEST IMAGES\n",
      "2304 DIMENSIONAL INPUT\n",
      "7 CLASSES\n"
     ]
    }
   ],
   "source": [
    "# LOAD DATA\n",
    "cwd = os.getcwd()\n",
    "loadpath = cwd + \"/data.npz\"\n",
    "l = np.load(loadpath)\n",
    "print (l.files)\n",
    "\n",
    "# PARSE LOADED DATA\n",
    "trainimg   = l['trainimg']\n",
    "trainlabel = l['trainlabel']\n",
    "testimg    = l['testimg']\n",
    "testlabel  = l['testlabel']\n",
    "ntrain = trainimg.shape[0]\n",
    "nclass = trainlabel.shape[1]\n",
    "dim    = trainimg.shape[1]\n",
    "ntest  = testimg.shape[0]\n",
    "print (\"%d TRAIN IMAGES\" % (ntrain))\n",
    "print (\"%d TEST IMAGES\" % (ntest))\n",
    "print (\"%d DIMENSIONAL INPUT\" % (dim))\n",
    "print (\"%d CLASSES\" % (nclass))"
   ]
  },
  {
   "cell_type": "markdown",
   "metadata": {},
   "source": [
    "# DEFINE MODEL"
   ]
  },
  {
   "cell_type": "code",
   "execution_count": 3,
   "metadata": {
    "collapsed": false
   },
   "outputs": [
    {
     "name": "stdout",
     "output_type": "stream",
     "text": [
      "MULTILAYER PERCEPTRON MODEL READY\n"
     ]
    }
   ],
   "source": [
    "tf.set_random_seed(0)\n",
    "\n",
    "# MULTILAYER PERCEPTRON MODEL\n",
    "n_input    = dim    # INPUT LAYER DIMENSION\n",
    "n_hid1     = 512    # 1ST HIDDEN LAYER DIMENSION\n",
    "n_hid2     = 256    # 2ND HIDDEN LATER DIMENSION\n",
    "n_output   = nclass # OUTPUT LAYER DIMENSION\n",
    "x = tf.placeholder(\"float\", [None, dim]) \n",
    "y = tf.placeholder(\"float\", [None, nclass]) \n",
    "std = 0.1 \n",
    "W = {\n",
    "    'h1': tf.Variable(tf.random_normal([n_input, n_hid1], stddev=std)),\n",
    "    'h2': tf.Variable(tf.random_normal([n_hid1, n_hid2], stddev=std)),\n",
    "    'out': tf.Variable(tf.random_normal([n_hid2, n_output], stddev=std))\n",
    "}\n",
    "b = {\n",
    "    'b1': tf.Variable(tf.random_normal([n_hid1])),\n",
    "    'b2': tf.Variable(tf.random_normal([n_hid2])),\n",
    "    'out': tf.Variable(tf.random_normal([n_output]))\n",
    "}\n",
    "def multilayer_perceptron(_x, _W, _b):\n",
    "    layer_1 = tf.nn.relu(tf.add(tf.matmul(_x, _W['h1']), _b['b1'])) \n",
    "    layer_2 = tf.nn.relu(tf.add(tf.matmul(layer_1, _W['h2']), _b['b2']))\n",
    "    return tf.matmul(layer_2, _W['out']) + _b['out']\n",
    "print (\"MULTILAYER PERCEPTRON MODEL READY\")"
   ]
  },
  {
   "cell_type": "markdown",
   "metadata": {},
   "source": [
    "# DEFINE FUNCTIONS "
   ]
  },
  {
   "cell_type": "code",
   "execution_count": 4,
   "metadata": {
    "collapsed": false
   },
   "outputs": [
    {
     "name": "stdout",
     "output_type": "stream",
     "text": [
      "FUNCTIONS READY\n"
     ]
    }
   ],
   "source": [
    "learning_rate = 0.001\n",
    "pred = multilayer_perceptron(x, W, b)\n",
    "ce_cost = tf.reduce_mean(tf.nn.softmax_cross_entropy_with_logits(pred, y)) \n",
    "WEIGHT_DECAY_FACTOR = 0.001 \n",
    "l2_loss = tf.add_n([tf.nn.l2_loss(v) \n",
    "            for v in tf.trainable_variables()])\n",
    "cost = ce_cost + WEIGHT_DECAY_FACTOR*l2_loss\n",
    "optm = tf.train.AdamOptimizer(learning_rate).minimize(cost) \n",
    "corr = tf.equal(tf.argmax(pred, 1), tf.argmax(y, 1))    \n",
    "accr = tf.reduce_mean(tf.cast(corr, tf.float32))\n",
    "init = tf.initialize_all_variables()\n",
    "print (\"FUNCTIONS READY\")"
   ]
  },
  {
   "cell_type": "markdown",
   "metadata": {},
   "source": [
    "# RUN"
   ]
  },
  {
   "cell_type": "code",
   "execution_count": 5,
   "metadata": {
    "collapsed": false
   },
   "outputs": [
    {
     "name": "stdout",
     "output_type": "stream",
     "text": [
      "Epoch: 000/400 cost: 12.140033313\n",
      " TRAIN ACCURACY: 0.154\n",
      " TEST ACCURACY: 0.159\n",
      "Epoch: 020/400 cost: 5.079085918\n",
      " TRAIN ACCURACY: 0.549\n",
      " TEST ACCURACY: 0.421\n",
      "Epoch: 040/400 cost: 3.405344043\n",
      " TRAIN ACCURACY: 0.795\n",
      " TEST ACCURACY: 0.568\n",
      "Epoch: 060/400 cost: 2.392877851\n",
      " TRAIN ACCURACY: 0.913\n",
      " TEST ACCURACY: 0.650\n",
      "Epoch: 080/400 cost: 1.792476353\n",
      " TRAIN ACCURACY: 0.952\n",
      " TEST ACCURACY: 0.666\n",
      "Epoch: 100/400 cost: 1.388221236\n",
      " TRAIN ACCURACY: 0.986\n",
      " TEST ACCURACY: 0.708\n",
      "Epoch: 120/400 cost: 1.179413693\n",
      " TRAIN ACCURACY: 0.992\n",
      " TEST ACCURACY: 0.722\n",
      "Epoch: 140/400 cost: 0.942591940\n",
      " TRAIN ACCURACY: 1.000\n",
      " TEST ACCURACY: 0.715\n",
      "Epoch: 160/400 cost: 1.196098861\n",
      " TRAIN ACCURACY: 0.912\n",
      " TEST ACCURACY: 0.638\n",
      "Epoch: 180/400 cost: 0.853696829\n",
      " TRAIN ACCURACY: 0.985\n",
      " TEST ACCURACY: 0.686\n",
      "Epoch: 200/400 cost: 0.744119102\n",
      " TRAIN ACCURACY: 0.977\n",
      " TEST ACCURACY: 0.692\n",
      "Epoch: 220/400 cost: 1.410654917\n",
      " TRAIN ACCURACY: 0.806\n",
      " TEST ACCURACY: 0.584\n",
      "Epoch: 240/400 cost: 0.564297074\n",
      " TRAIN ACCURACY: 0.995\n",
      " TEST ACCURACY: 0.700\n",
      "Epoch: 260/400 cost: 0.490657039\n",
      " TRAIN ACCURACY: 1.000\n",
      " TEST ACCURACY: 0.713\n",
      "Epoch: 280/400 cost: 0.458047878\n",
      " TRAIN ACCURACY: 0.874\n",
      " TEST ACCURACY: 0.625\n",
      "Epoch: 300/400 cost: 0.815355332\n",
      " TRAIN ACCURACY: 0.837\n",
      " TEST ACCURACY: 0.590\n",
      "Epoch: 320/400 cost: 0.553344690\n",
      " TRAIN ACCURACY: 0.941\n",
      " TEST ACCURACY: 0.664\n",
      "Epoch: 340/400 cost: 0.520024978\n",
      " TRAIN ACCURACY: 0.978\n",
      " TEST ACCURACY: 0.691\n",
      "Epoch: 360/400 cost: 0.397752794\n",
      " TRAIN ACCURACY: 0.994\n",
      " TEST ACCURACY: 0.703\n",
      "Epoch: 380/400 cost: 0.354262051\n",
      " TRAIN ACCURACY: 0.999\n",
      " TEST ACCURACY: 0.712\n",
      "Epoch: 399/400 cost: 0.517322032\n",
      " TRAIN ACCURACY: 0.953\n",
      " TEST ACCURACY: 0.670\n",
      "OPTIMIZATION FINISHED\n"
     ]
    }
   ],
   "source": [
    "# PARAMETERS\n",
    "batch_size      = 256\n",
    "display_step    = 20\n",
    "training_epochs = 400\n",
    "num_batch = int(ntrain/batch_size)+1\n",
    "\n",
    "# LAUNCH THE GRAPH\n",
    "sess = tf.Session()\n",
    "sess.run(init)\n",
    "for epoch in range(training_epochs):\n",
    "    avg_cost = 0.\n",
    "    randpermlist = np.random.permutation(ntrain)\n",
    "    for i in range(num_batch): \n",
    "        randidx  = randpermlist[i*batch_size:min((i+1)*batch_size, ntrain-1)]\n",
    "        batch_xs = trainimg[randidx, :]\n",
    "        batch_ys = trainlabel[randidx, :]                \n",
    "        feeds    = {x: batch_xs, y: batch_ys}\n",
    "        # OPTIMIZE VARIABLES\n",
    "        sess.run(optm, feed_dict=feeds)\n",
    "        # COMPUTE LOSS\n",
    "        avg_cost += sess.run(cost, feed_dict=feeds)/num_batch\n",
    "\n",
    "    # PRINT CURRENT STATUS\n",
    "    if epoch % display_step == 0 or epoch == training_epochs-1:\n",
    "        print (\"Epoch: %03d/%03d cost: %.9f\" % \n",
    "               (epoch, training_epochs, avg_cost))\n",
    "        feeds = {x: trainimg, y: trainlabel}\n",
    "        train_acc = sess.run(accr, feed_dict=feeds)\n",
    "        feeds = {x: testimg, y: testlabel}\n",
    "        test_acc = sess.run(accr, feed_dict=feeds)\n",
    "        print (\" TRAIN ACCURACY: %.3f\" % (train_acc))\n",
    "        print (\" TEST ACCURACY: %.3f\" % (test_acc))\n",
    "print (\"OPTIMIZATION FINISHED\")"
   ]
  }
 ],
 "metadata": {
  "kernelspec": {
   "display_name": "Python 2",
   "language": "python",
   "name": "python2"
  },
  "language_info": {
   "codemirror_mode": {
    "name": "ipython",
    "version": 2
   },
   "file_extension": ".py",
   "mimetype": "text/x-python",
   "name": "python",
   "nbconvert_exporter": "python",
   "pygments_lexer": "ipython2",
   "version": "2.7.6"
  }
 },
 "nbformat": 4,
 "nbformat_minor": 0
}
