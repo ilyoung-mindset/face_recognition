{
 "cells": [
  {
   "cell_type": "markdown",
   "metadata": {},
   "source": [
    "# CONVOLUTIONAL NEURAL NETWORK\n",
    "## FOR FACE RECOGNITION"
   ]
  },
  {
   "cell_type": "code",
   "execution_count": 1,
   "metadata": {
    "collapsed": false
   },
   "outputs": [
    {
     "name": "stdout",
     "output_type": "stream",
     "text": [
      "Packages loaded\n"
     ]
    }
   ],
   "source": [
    "import os\n",
    "import numpy as np\n",
    "import tensorflow as tf\n",
    "import matplotlib.pyplot as plt\n",
    "%matplotlib inline  \n",
    "print (\"Packages loaded\")"
   ]
  },
  {
   "cell_type": "markdown",
   "metadata": {},
   "source": [
    "# LOAD DATA"
   ]
  },
  {
   "cell_type": "code",
   "execution_count": 2,
   "metadata": {
    "collapsed": false
   },
   "outputs": [
    {
     "name": "stdout",
     "output_type": "stream",
     "text": [
      "['trainlabel', 'trainimg', 'imgsize', 'testimg', 'testlabel']\n",
      "5242 TRAIN IMAGES\n",
      "1311 TEST IMAGES\n",
      "2304 DIMENSIONAL INPUT\n",
      "7 CLASSES\n"
     ]
    }
   ],
   "source": [
    "# LOAD DATA\n",
    "cwd = os.getcwd()\n",
    "loadpath = cwd + \"/data.npz\"\n",
    "l = np.load(loadpath)\n",
    "print (l.files)\n",
    "\n",
    "# PARSE LOADED DATA\n",
    "trainimg   = l['trainimg']\n",
    "trainlabel = l['trainlabel']\n",
    "testimg    = l['testimg']\n",
    "testlabel  = l['testlabel']\n",
    "imgsize    = l['imgsize']\n",
    "ntrain = trainimg.shape[0]\n",
    "nclass = trainlabel.shape[1]\n",
    "dim    = trainimg.shape[1]\n",
    "ntest  = testimg.shape[0]\n",
    "print (\"%d TRAIN IMAGES\" % (ntrain))\n",
    "print (\"%d TEST IMAGES\" % (ntest))\n",
    "print (\"%d DIMENSIONAL INPUT\" % (dim))\n",
    "print (\"%d CLASSES\" % (nclass))"
   ]
  },
  {
   "cell_type": "markdown",
   "metadata": {},
   "source": [
    "# DEFINE MODEL"
   ]
  },
  {
   "cell_type": "code",
   "execution_count": 3,
   "metadata": {
    "collapsed": false
   },
   "outputs": [
    {
     "name": "stdout",
     "output_type": "stream",
     "text": [
      "CNN PARAMETERS READY\n"
     ]
    }
   ],
   "source": [
    "tf.set_random_seed(0)\n",
    "\n",
    "# MULTILAYER PERCEPTRON MODEL\n",
    "n_input    = dim    # INPUT LAYER DIMENSION\n",
    "n_filter1  = 128    # NUMBER OF FILTERS IN CONV1 \n",
    "n_filter2  = 256    # NUMBER OF FILTERS IN CONV2\n",
    "n_hid      = 256    # NUMBER OF HIDDEN LAYER NODES\n",
    "n_output   = nclass # OUTPUT LAYER DIMENSION\n",
    "x = tf.placeholder(\"float\", [None, dim]) \n",
    "y = tf.placeholder(\"float\", [None, nclass]) \n",
    "\n",
    "std = 0.1\n",
    "with tf.variable_scope(\"CNN_WEIGHTS\"):\n",
    "    W = {\n",
    "        'wc1': tf.Variable(tf.random_normal([3, 3, imgsize[2], n_filter1], stddev=std)),\n",
    "        'wc2': tf.Variable(tf.random_normal([3, 3, n_filter1, n_filter2], stddev=std)),\n",
    "        'wd1': tf.Variable(tf.random_normal(\n",
    "                [(int)(imgsize[0]/4*imgsize[1]/4)*n_filter2, n_hid], stddev=std)),\n",
    "        'wd2': tf.Variable(tf.random_normal([n_hid, n_output], stddev=std))\n",
    "    }\n",
    "with tf.variable_scope(\"CNN_BIASES\"):\n",
    "    b = {\n",
    "        'bc1': tf.Variable(tf.random_normal([n_filter1], stddev=std)),\n",
    "        'bc2': tf.Variable(tf.random_normal([n_filter2], stddev=std)),\n",
    "        'bd1': tf.Variable(tf.random_normal([n_hid], stddev=std)),\n",
    "        'bd2': tf.Variable(tf.random_normal([n_output], stddev=std))\n",
    "    }\n",
    "x = tf.placeholder(\"float\", [None, dim], name=\"CNN_INPUT_X\")\n",
    "y = tf.placeholder(\"float\", [None, nclass], name=\"CNN_TARGET_Y\")\n",
    "keepratio = tf.placeholder(tf.float32, name=\"CNN_DROPOUT_KR\")\n",
    "\n",
    "print (\"CNN PARAMETERS READY\")"
   ]
  },
  {
   "cell_type": "code",
   "execution_count": 4,
   "metadata": {
    "collapsed": false
   },
   "outputs": [
    {
     "name": "stdout",
     "output_type": "stream",
     "text": [
      "CONVOLUTIONAL NEURAL NETWORK MODEL READY\n"
     ]
    }
   ],
   "source": [
    "def convolutional_neural_network(_x, _w, _b, _imgsize, _keepratio):\n",
    "    with tf.variable_scope(\"INPUT_LAYER\"):\n",
    "        _input_r = tf.reshape(_x, shape=[-1, _imgsize[0], _imgsize[1], _imgsize[2]])\n",
    "    # CONVOLUTION LAYER 1\n",
    "    with tf.variable_scope(\"CONV_1\"):\n",
    "        _conv1 = tf.nn.relu(tf.nn.bias_add(tf.nn.conv2d(_input_r\n",
    "            , _w['wc1'], strides=[1, 1, 1, 1], padding='SAME'), _b['bc1']))\n",
    "        _pool1 = tf.nn.max_pool(_conv1, ksize=[1, 2, 2, 1]\n",
    "            , strides=[1, 2, 2, 1], padding='SAME')\n",
    "    # CONVOLUTION LAYER 2\n",
    "    with tf.variable_scope(\"CONV_2\"):\n",
    "        _conv2 = tf.nn.relu(tf.nn.bias_add(tf.nn.conv2d(_pool1\n",
    "            , _w['wc2'], strides=[1, 1, 1, 1], padding='SAME'), _b['bc2']))\n",
    "        _pool2 = tf.nn.max_pool(_conv2, ksize=[1, 2, 2, 1]\n",
    "            , strides=[1, 2, 2, 1], padding='SAME')\n",
    "        _pool2_dr = tf.nn.dropout(_pool2, _keepratio)\n",
    "        _dense1 = tf.reshape(_pool2_dr\n",
    "                             , [-1, _w['wd1'].get_shape().as_list()[0]])\n",
    "    # DENSE LAYER 1\n",
    "    with tf.variable_scope(\"FC_1\"):\n",
    "        _fc1 = tf.nn.relu(tf.add(tf.matmul(_dense1, _w['wd1']), _b['bd1']))\n",
    "        _fc1_dr = tf.nn.dropout(_fc1, _keepratio)\n",
    "    # OUTPUT LAYER 2\n",
    "    with tf.variable_scope(\"FC_2\"):\n",
    "        _out = tf.add(tf.matmul(_fc1_dr, _w['wd2']), _b['bd2'])\n",
    "    # RETURN\n",
    "    out = {\n",
    "        'input_r': _input_r, 'conv1': _conv1, 'pool1': _pool1\n",
    "        , 'conv2': _conv2, 'pool2': _pool2\n",
    "        , 'dense1': _dense1, 'fc1': _fc1, 'fc_dr1': _fc1_dr, 'out': _out\n",
    "    }\n",
    "    return out\n",
    "print (\"CONVOLUTIONAL NEURAL NETWORK MODEL READY\")"
   ]
  },
  {
   "cell_type": "markdown",
   "metadata": {},
   "source": [
    "# DEFINE FUNCTIONS"
   ]
  },
  {
   "cell_type": "code",
   "execution_count": 5,
   "metadata": {
    "collapsed": false
   },
   "outputs": [
    {
     "name": "stdout",
     "output_type": "stream",
     "text": [
      "FUNCTIONS READY\n"
     ]
    }
   ],
   "source": [
    "learning_rate = 0.001\n",
    "pred = convolutional_neural_network(x, W, b, imgsize, keepratio)['out']\n",
    "ce_cost = tf.reduce_mean(tf.nn.softmax_cross_entropy_with_logits(pred, y)) \n",
    "WEIGHT_DECAY_FACTOR = 0.01\n",
    "l2_loss = tf.add_n([tf.nn.l2_loss(v) \n",
    "            for v in tf.trainable_variables()])\n",
    "cost = ce_cost + WEIGHT_DECAY_FACTOR*l2_loss\n",
    "optm = tf.train.AdamOptimizer(learning_rate).minimize(cost) \n",
    "corr = tf.equal(tf.argmax(pred, 1), tf.argmax(y, 1))    \n",
    "accr = tf.reduce_mean(tf.cast(corr, tf.float32))\n",
    "init = tf.initialize_all_variables()\n",
    "print (\"FUNCTIONS READY\")"
   ]
  },
  {
   "cell_type": "markdown",
   "metadata": {},
   "source": [
    "# SUMMARY"
   ]
  },
  {
   "cell_type": "code",
   "execution_count": null,
   "metadata": {
    "collapsed": false
   },
   "outputs": [
    {
     "name": "stdout",
     "output_type": "stream",
     "text": [
      "SUMMARY READY\n"
     ]
    }
   ],
   "source": [
    "# LAUNCH THE GRAPH\n",
    "sess = tf.Session()\n",
    "sess.run(init)\n",
    "\n",
    "tf.scalar_summary('CROSS ENTROPY COST', cost)\n",
    "tf.scalar_summary('ACCURACY', accr)\n",
    "merged = tf.merge_all_summaries()\n",
    "summary_writer = tf.train.SummaryWriter('/tmp/tf_logs/cnn_mnist', graph=sess.graph)\n",
    "print (\"SUMMARY READY\")"
   ]
  },
  {
   "cell_type": "markdown",
   "metadata": {},
   "source": [
    "## ON THE COMMAND LINE\n",
    "#### tensorboard --logdir=/tmp/tf_logs/cnn_mnist\n",
    "## OPEN FOLLOWING LINK\n",
    "#### http://localhost:6006/"
   ]
  },
  {
   "cell_type": "markdown",
   "metadata": {},
   "source": [
    "# RUN"
   ]
  },
  {
   "cell_type": "code",
   "execution_count": null,
   "metadata": {
    "collapsed": false
   },
   "outputs": [
    {
     "name": "stdout",
     "output_type": "stream",
     "text": [
      "Epoch: 000/400 cost: 441.939181373\n",
      " TRAIN ACCURACY: 0.151\n",
      " TEST ACCURACY: 0.141\n",
      "Epoch: 020/400 cost: 11.241080829\n",
      " TRAIN ACCURACY: 0.653\n",
      " TEST ACCURACY: 0.511\n",
      "Epoch: 040/400 cost: 2.591625146\n",
      " TRAIN ACCURACY: 0.860\n",
      " TEST ACCURACY: 0.658\n",
      "Epoch: 060/400 cost: 1.624476745\n",
      " TRAIN ACCURACY: 0.959\n",
      " TEST ACCURACY: 0.712\n",
      "Epoch: 080/400 cost: 1.354040186\n",
      " TRAIN ACCURACY: 0.988\n",
      " TEST ACCURACY: 0.732\n",
      "Epoch: 100/400 cost: 1.273033931\n",
      " TRAIN ACCURACY: 0.986\n",
      " TEST ACCURACY: 0.741\n",
      "Epoch: 120/400 cost: 1.220717600\n",
      " TRAIN ACCURACY: 0.995\n",
      " TEST ACCURACY: 0.748\n",
      "Epoch: 320/400 cost: 1.075975015\n",
      " TRAIN ACCURACY: 0.998\n",
      " TEST ACCURACY: 0.734\n",
      "Epoch: 340/400 cost: 1.051064185\n",
      " TRAIN ACCURACY: 0.997\n",
      " TEST ACCURACY: 0.740\n",
      "Epoch: 360/400 cost: 1.113675855\n",
      " TRAIN ACCURACY: 0.994\n",
      " TEST ACCURACY: 0.734\n",
      "Epoch: 380/400 cost: 1.060415359\n",
      " TRAIN ACCURACY: 0.997\n",
      " TEST ACCURACY: 0.745\n",
      "Epoch: 399/400 cost: 1.036474299\n",
      " TRAIN ACCURACY: 0.996\n",
      " TEST ACCURACY: 0.743\n",
      "OPTIMIZATION FINISHED\n"
     ]
    }
   ],
   "source": [
    "# PARAMETERS\n",
    "batch_size      = 256\n",
    "display_step    = 20\n",
    "training_epochs = 400\n",
    "num_batch = int(ntrain/batch_size)+1\n",
    "for epoch in range(training_epochs):\n",
    "    avg_cost = 0.\n",
    "    randpermlist = np.random.permutation(ntrain)\n",
    "    for i in range(num_batch): \n",
    "        randidx  = randpermlist[i*batch_size:min((i+1)*batch_size, ntrain-1)]\n",
    "        batch_xs = trainimg[randidx, :]\n",
    "        batch_ys = trainlabel[randidx, :]                \n",
    "        feeds    = {x: batch_xs, y: batch_ys, keepratio: 0.7}\n",
    "        # OPTIMIZE VARIABLES\n",
    "        summary, _ = sess.run([merged, optm], feed_dict=feeds)\n",
    "        # COMPUTE LOSS\n",
    "        avg_cost += sess.run(cost, feed_dict=feeds)/num_batch\n",
    "        # SUMMARY\n",
    "        summary_writer.add_summary(summary, epoch*num_batch+i)\n",
    "        \n",
    "    # PRINT CURRENT STATUS\n",
    "    if epoch % display_step == 0 or epoch == training_epochs-1:\n",
    "        print (\"Epoch: %03d/%03d cost: %.9f\" % \n",
    "               (epoch, training_epochs, avg_cost))      \n",
    "        ntemp = int(ntrain/batch_size)+1\n",
    "        train_acc = 0\n",
    "        for ii in range(ntemp):\n",
    "            iii = np.arange(ii*batch_size, min(ntrain, (ii+1)*batch_size))\n",
    "            feeds = {x: trainimg[iii, :], y: trainlabel[iii, :], keepratio: 1.0}\n",
    "            train_acc = train_acc + sess.run(accr, feed_dict=feeds)\n",
    "        train_acc = train_acc / ntemp            \n",
    "        ntemp = int(ntest/batch_size)+1\n",
    "        test_acc = 0\n",
    "        for ii in range(ntemp):\n",
    "            iii = np.arange(ii*batch_size, min(ntest, (ii+1)*batch_size))\n",
    "            feeds = {x: testimg[iii, :], y: testlabel[iii, :], keepratio: 1.0}\n",
    "            test_acc = test_acc + sess.run(accr, feed_dict=feeds)\n",
    "        test_acc = test_acc / ntemp\n",
    "        print (\" TRAIN ACCURACY: %.3f\" % (train_acc))\n",
    "        print (\" TEST ACCURACY: %.3f\" % (test_acc))\n",
    "        \n",
    "print (\"OPTIMIZATION FINISHED\") "
   ]
  }
 ],
 "metadata": {
  "kernelspec": {
   "display_name": "Python 2",
   "language": "python",
   "name": "python2"
  },
  "language_info": {
   "codemirror_mode": {
    "name": "ipython",
    "version": 2
   },
   "file_extension": ".py",
   "mimetype": "text/x-python",
   "name": "python",
   "nbconvert_exporter": "python",
   "pygments_lexer": "ipython2",
   "version": "2.7.6"
  }
 },
 "nbformat": 4,
 "nbformat_minor": 0
}
