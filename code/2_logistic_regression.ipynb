{
 "cells": [
  {
   "cell_type": "markdown",
   "metadata": {},
   "source": [
    "# LOGISTIC REGRESSION\n",
    "## FOR FACE RECOGNITION"
   ]
  },
  {
   "cell_type": "code",
   "execution_count": 1,
   "metadata": {
    "collapsed": false
   },
   "outputs": [
    {
     "name": "stdout",
     "output_type": "stream",
     "text": [
      "PACKAGES LODAED\n"
     ]
    }
   ],
   "source": [
    "import os\n",
    "import numpy as np\n",
    "import tensorflow as tf\n",
    "print (\"PACKAGES LODAED\")"
   ]
  },
  {
   "cell_type": "markdown",
   "metadata": {},
   "source": [
    "# LOAD DATA"
   ]
  },
  {
   "cell_type": "code",
   "execution_count": 2,
   "metadata": {
    "collapsed": false
   },
   "outputs": [
    {
     "name": "stdout",
     "output_type": "stream",
     "text": [
      "['trainlabel', 'trainimg', 'imgsize', 'testimg', 'testlabel']\n",
      "544 TRAIN IMAGES\n",
      "137 TEST IMAGES\n",
      "6912 DIMENSIONAL INPUT\n",
      "4 CLASSES\n"
     ]
    }
   ],
   "source": [
    "# LOAD DATA\n",
    "cwd = os.getcwd()\n",
    "loadpath = cwd + \"/data.npz\"\n",
    "l = np.load(loadpath)\n",
    "print (l.files)\n",
    "\n",
    "# PARSE LOADED DATA\n",
    "trainimg   = l['trainimg']\n",
    "trainlabel = l['trainlabel']\n",
    "testimg    = l['testimg']\n",
    "testlabel  = l['testlabel']\n",
    "ntrain = trainimg.shape[0]\n",
    "nclass = trainlabel.shape[1]\n",
    "dim    = trainimg.shape[1]\n",
    "ntest  = testimg.shape[0]\n",
    "print (\"%d TRAIN IMAGES\" % (ntrain))\n",
    "print (\"%d TEST IMAGES\" % (ntest))\n",
    "print (\"%d DIMENSIONAL INPUT\" % (dim))\n",
    "print (\"%d CLASSES\" % (nclass))"
   ]
  },
  {
   "cell_type": "markdown",
   "metadata": {},
   "source": [
    "# DEFINE MODEL"
   ]
  },
  {
   "cell_type": "code",
   "execution_count": 3,
   "metadata": {
    "collapsed": false
   },
   "outputs": [
    {
     "name": "stdout",
     "output_type": "stream",
     "text": [
      "LOGISTIC REGRESSION MODEL READY\n"
     ]
    }
   ],
   "source": [
    "tf.set_random_seed(0)\n",
    "\n",
    "# LOGISTIC REGRESSION MODEL\n",
    "x = tf.placeholder(\"float\", [None, dim]) \n",
    "y = tf.placeholder(\"float\", [None, nclass]) \n",
    "W = tf.Variable(tf.zeros([dim, nclass]), name = 'weights')\n",
    "b = tf.Variable(tf.zeros([nclass]))\n",
    "def logistic_regression(_x, _W, _b):\n",
    "    return tf.nn.softmax(tf.matmul(_x, _W) + _b) \n",
    "print (\"LOGISTIC REGRESSION MODEL READY\")"
   ]
  },
  {
   "cell_type": "markdown",
   "metadata": {},
   "source": [
    "# DEFINE FUNCTIONS"
   ]
  },
  {
   "cell_type": "code",
   "execution_count": 4,
   "metadata": {
    "collapsed": false
   },
   "outputs": [
    {
     "name": "stdout",
     "output_type": "stream",
     "text": [
      "FUNCTIONS READY\n"
     ]
    }
   ],
   "source": [
    "# LOSS, COST, OPTIMIZER, ACCURACY, INIT\n",
    "learning_rate = 0.001\n",
    "pred = logistic_regression(x, W, b)\n",
    "WEIGHT_DECAY_FACTOR = 0.001\n",
    "cost = tf.reduce_mean(-tf.reduce_sum(y*tf.log(pred)\n",
    "                                     , reduction_indices=1)) \n",
    "l2_loss = tf.add_n([tf.nn.l2_loss(v) \n",
    "            for v in tf.trainable_variables()])\n",
    "cost = cost + WEIGHT_DECAY_FACTOR*l2_loss\n",
    "optm = tf.train.AdamOptimizer(learning_rate).minimize(cost) \n",
    "corr = tf.equal(tf.argmax(pred, 1), tf.argmax(y, 1))    \n",
    "accr = tf.reduce_mean(tf.cast(corr, tf.float32))\n",
    "init = tf.initialize_all_variables()\n",
    "print (\"FUNCTIONS READY\")"
   ]
  },
  {
   "cell_type": "markdown",
   "metadata": {},
   "source": [
    "# RUN"
   ]
  },
  {
   "cell_type": "code",
   "execution_count": 5,
   "metadata": {
    "collapsed": false
   },
   "outputs": [
    {
     "name": "stdout",
     "output_type": "stream",
     "text": [
      "Epoch: 000/400 cost: 1.542903066\n",
      " TRAIN ACCURACY: 0.800\n",
      " TEST ACCURACY: 0.803\n",
      "Epoch: 020/400 cost: 0.373207619\n",
      " TRAIN ACCURACY: 0.893\n",
      " TEST ACCURACY: 0.869\n",
      "Epoch: 040/400 cost: 0.220789795\n",
      " TRAIN ACCURACY: 0.914\n",
      " TEST ACCURACY: 0.876\n",
      "Epoch: 060/400 cost: 0.206351966\n",
      " TRAIN ACCURACY: 0.972\n",
      " TEST ACCURACY: 0.912\n",
      "Epoch: 080/400 cost: 0.099411139\n",
      " TRAIN ACCURACY: 0.972\n",
      " TEST ACCURACY: 0.920\n",
      "Epoch: 100/400 cost: 0.092321830\n",
      " TRAIN ACCURACY: 0.985\n",
      " TEST ACCURACY: 0.942\n",
      "Epoch: 120/400 cost: 0.077323357\n",
      " TRAIN ACCURACY: 0.991\n",
      " TEST ACCURACY: 0.942\n",
      "Epoch: 140/400 cost: 0.058244391\n",
      " TRAIN ACCURACY: 0.993\n",
      " TEST ACCURACY: 0.949\n",
      "Epoch: 160/400 cost: 0.054471094\n",
      " TRAIN ACCURACY: 0.998\n",
      " TEST ACCURACY: 0.949\n",
      "Epoch: 180/400 cost: 0.051578868\n",
      " TRAIN ACCURACY: 0.998\n",
      " TEST ACCURACY: 0.942\n",
      "Epoch: 200/400 cost: 0.043565189\n",
      " TRAIN ACCURACY: 0.998\n",
      " TEST ACCURACY: 0.949\n",
      "Epoch: 220/400 cost: 0.034760658\n",
      " TRAIN ACCURACY: 1.000\n",
      " TEST ACCURACY: 0.949\n",
      "Epoch: 240/400 cost: 0.028869699\n",
      " TRAIN ACCURACY: 1.000\n",
      " TEST ACCURACY: 0.949\n",
      "Epoch: 260/400 cost: 0.032434772\n",
      " TRAIN ACCURACY: 1.000\n",
      " TEST ACCURACY: 0.956\n",
      "Epoch: 280/400 cost: 0.027440750\n",
      " TRAIN ACCURACY: 1.000\n",
      " TEST ACCURACY: 0.949\n",
      "Epoch: 300/400 cost: 0.026609626\n",
      " TRAIN ACCURACY: 1.000\n",
      " TEST ACCURACY: 0.949\n",
      "Epoch: 320/400 cost: 0.023225925\n",
      " TRAIN ACCURACY: 1.000\n",
      " TEST ACCURACY: 0.949\n",
      "Epoch: 340/400 cost: 0.023335628\n",
      " TRAIN ACCURACY: 1.000\n",
      " TEST ACCURACY: 0.956\n",
      "Epoch: 360/400 cost: 0.021877243\n",
      " TRAIN ACCURACY: 1.000\n",
      " TEST ACCURACY: 0.956\n",
      "Epoch: 380/400 cost: 0.021930433\n",
      " TRAIN ACCURACY: 1.000\n",
      " TEST ACCURACY: 0.956\n",
      "Epoch: 399/400 cost: 0.020872911\n",
      " TRAIN ACCURACY: 1.000\n",
      " TEST ACCURACY: 0.956\n",
      "OPTIMIZATION FINISHED\n"
     ]
    }
   ],
   "source": [
    "# PARAMETERS\n",
    "batch_size      = 256\n",
    "display_step    = 20\n",
    "training_epochs = 400\n",
    "num_batch = int(ntrain/batch_size)+1\n",
    "\n",
    "# LAUNCH THE GRAPH\n",
    "sess = tf.Session()\n",
    "sess.run(init)\n",
    "for epoch in range(training_epochs):\n",
    "    avg_cost = 0.\n",
    "    randpermlist = np.random.permutation(ntrain)\n",
    "    for i in range(num_batch): \n",
    "        randidx  = randpermlist[i*batch_size:min((i+1)*batch_size, ntrain-1)]\n",
    "        batch_xs = trainimg[randidx, :]\n",
    "        batch_ys = trainlabel[randidx, :]                \n",
    "        feeds    = {x: batch_xs, y: batch_ys}\n",
    "        # OPTIMIZE VARIABLES\n",
    "        sess.run(optm, feed_dict=feeds)\n",
    "        # COMPUTE LOSS\n",
    "        avg_cost += sess.run(cost, feed_dict=feeds)/num_batch\n",
    "\n",
    "    # PRINT CURRENT STATUS\n",
    "    if epoch % display_step == 0 or epoch == training_epochs-1:\n",
    "        print (\"Epoch: %03d/%03d cost: %.9f\" % \n",
    "               (epoch, training_epochs, avg_cost))\n",
    "        feeds = {x: trainimg, y: trainlabel}\n",
    "        train_acc = sess.run(accr, feed_dict=feeds)\n",
    "        feeds = {x: testimg, y: testlabel}\n",
    "        test_acc = sess.run(accr, feed_dict=feeds)\n",
    "        print (\" TRAIN ACCURACY: %.3f\" % (train_acc))\n",
    "        print (\" TEST ACCURACY: %.3f\" % (test_acc))\n",
    "print (\"OPTIMIZATION FINISHED\")"
   ]
  }
 ],
 "metadata": {
  "kernelspec": {
   "display_name": "Python 2",
   "language": "python",
   "name": "python2"
  },
  "language_info": {
   "codemirror_mode": {
    "name": "ipython",
    "version": 2
   },
   "file_extension": ".py",
   "mimetype": "text/x-python",
   "name": "python",
   "nbconvert_exporter": "python",
   "pygments_lexer": "ipython2",
   "version": "2.7.6"
  }
 },
 "nbformat": 4,
 "nbformat_minor": 0
}
