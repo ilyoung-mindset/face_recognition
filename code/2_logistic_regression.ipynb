{
 "cells": [
  {
   "cell_type": "markdown",
   "metadata": {},
   "source": [
    "# LOGISTIC REGRESSION\n",
    "## FOR FACE RECOGNITION"
   ]
  },
  {
   "cell_type": "code",
   "execution_count": 1,
   "metadata": {
    "collapsed": false
   },
   "outputs": [
    {
     "name": "stdout",
     "output_type": "stream",
     "text": [
      "PACKAGES LODAED\n"
     ]
    }
   ],
   "source": [
    "import os\n",
    "import numpy as np\n",
    "import tensorflow as tf\n",
    "print (\"PACKAGES LODAED\")"
   ]
  },
  {
   "cell_type": "markdown",
   "metadata": {},
   "source": [
    "# LOAD DATA"
   ]
  },
  {
   "cell_type": "code",
   "execution_count": 2,
   "metadata": {
    "collapsed": false
   },
   "outputs": [
    {
     "name": "stdout",
     "output_type": "stream",
     "text": [
      "['trainlabel', 'trainimg', 'imgsize', 'testimg', 'testlabel']\n",
      "5242 TRAIN IMAGES\n",
      "1311 TEST IMAGES\n",
      "2304 DIMENSIONAL INPUT\n",
      "7 CLASSES\n"
     ]
    }
   ],
   "source": [
    "# LOAD DATA\n",
    "cwd = os.getcwd()\n",
    "loadpath = cwd + \"/data.npz\"\n",
    "l = np.load(loadpath)\n",
    "print (l.files)\n",
    "\n",
    "# PARSE LOADED DATA\n",
    "trainimg   = l['trainimg']\n",
    "trainlabel = l['trainlabel']\n",
    "testimg    = l['testimg']\n",
    "testlabel  = l['testlabel']\n",
    "ntrain = trainimg.shape[0]\n",
    "nclass = trainlabel.shape[1]\n",
    "dim    = trainimg.shape[1]\n",
    "ntest  = testimg.shape[0]\n",
    "print (\"%d TRAIN IMAGES\" % (ntrain))\n",
    "print (\"%d TEST IMAGES\" % (ntest))\n",
    "print (\"%d DIMENSIONAL INPUT\" % (dim))\n",
    "print (\"%d CLASSES\" % (nclass))"
   ]
  },
  {
   "cell_type": "markdown",
   "metadata": {},
   "source": [
    "# DEFINE MODEL"
   ]
  },
  {
   "cell_type": "code",
   "execution_count": 3,
   "metadata": {
    "collapsed": false
   },
   "outputs": [
    {
     "name": "stdout",
     "output_type": "stream",
     "text": [
      "LOGISTIC REGRESSION MODEL READY\n"
     ]
    }
   ],
   "source": [
    "tf.set_random_seed(0)\n",
    "\n",
    "# LOGISTIC REGRESSION MODEL\n",
    "x = tf.placeholder(\"float\", [None, dim]) \n",
    "y = tf.placeholder(\"float\", [None, nclass]) \n",
    "W = tf.Variable(tf.zeros([dim, nclass]), name = 'weights')\n",
    "b = tf.Variable(tf.zeros([nclass]))\n",
    "def logistic_regression(_x, _W, _b):\n",
    "    return tf.nn.softmax(tf.matmul(_x, _W) + _b) \n",
    "print (\"LOGISTIC REGRESSION MODEL READY\")"
   ]
  },
  {
   "cell_type": "markdown",
   "metadata": {},
   "source": [
    "# DEFINE FUNCTIONS"
   ]
  },
  {
   "cell_type": "code",
   "execution_count": 4,
   "metadata": {
    "collapsed": false
   },
   "outputs": [
    {
     "name": "stdout",
     "output_type": "stream",
     "text": [
      "FUNCTIONS READY\n"
     ]
    }
   ],
   "source": [
    "# LOSS, COST, OPTIMIZER, ACCURACY, INIT\n",
    "learning_rate = 0.001\n",
    "pred = logistic_regression(x, W, b)\n",
    "WEIGHT_DECAY_FACTOR = 0.001\n",
    "cost = tf.reduce_mean(-tf.reduce_sum(y*tf.log(pred)\n",
    "                                     , reduction_indices=1)) \n",
    "l2_loss = tf.add_n([tf.nn.l2_loss(v) \n",
    "            for v in tf.trainable_variables()])\n",
    "cost = cost + WEIGHT_DECAY_FACTOR*l2_loss\n",
    "optm = tf.train.AdamOptimizer(learning_rate).minimize(cost) \n",
    "corr = tf.equal(tf.argmax(pred, 1), tf.argmax(y, 1))    \n",
    "accr = tf.reduce_mean(tf.cast(corr, tf.float32))\n",
    "init = tf.initialize_all_variables()\n",
    "print (\"FUNCTIONS READY\")"
   ]
  },
  {
   "cell_type": "markdown",
   "metadata": {},
   "source": [
    "# RUN"
   ]
  },
  {
   "cell_type": "code",
   "execution_count": 5,
   "metadata": {
    "collapsed": false
   },
   "outputs": [
    {
     "name": "stdout",
     "output_type": "stream",
     "text": [
      "Epoch: 000/400 cost: 1.939275503\n",
      " TRAIN ACCURACY: 0.208\n",
      " TEST ACCURACY: 0.198\n",
      "Epoch: 020/400 cost: 1.630034430\n",
      " TRAIN ACCURACY: 0.383\n",
      " TEST ACCURACY: 0.336\n",
      "Epoch: 040/400 cost: 1.534821681\n",
      " TRAIN ACCURACY: 0.443\n",
      " TEST ACCURACY: 0.390\n",
      "Epoch: 060/400 cost: 1.489508941\n",
      " TRAIN ACCURACY: 0.443\n",
      " TEST ACCURACY: 0.379\n",
      "Epoch: 080/400 cost: 1.427822783\n",
      " TRAIN ACCURACY: 0.494\n",
      " TEST ACCURACY: 0.407\n",
      "Epoch: 100/400 cost: 1.388903436\n",
      " TRAIN ACCURACY: 0.543\n",
      " TEST ACCURACY: 0.423\n",
      "Epoch: 120/400 cost: 1.367192910\n",
      " TRAIN ACCURACY: 0.506\n",
      " TEST ACCURACY: 0.417\n",
      "Epoch: 140/400 cost: 1.322754111\n",
      " TRAIN ACCURACY: 0.572\n",
      " TEST ACCURACY: 0.431\n",
      "Epoch: 160/400 cost: 1.305370308\n",
      " TRAIN ACCURACY: 0.571\n",
      " TEST ACCURACY: 0.445\n",
      "Epoch: 180/400 cost: 1.289524970\n",
      " TRAIN ACCURACY: 0.561\n",
      " TEST ACCURACY: 0.443\n",
      "Epoch: 200/400 cost: 1.284206793\n",
      " TRAIN ACCURACY: 0.582\n",
      " TEST ACCURACY: 0.437\n",
      "Epoch: 220/400 cost: 1.257572373\n",
      " TRAIN ACCURACY: 0.592\n",
      " TEST ACCURACY: 0.464\n",
      "Epoch: 240/400 cost: 1.251766994\n",
      " TRAIN ACCURACY: 0.616\n",
      " TEST ACCURACY: 0.445\n",
      "Epoch: 260/400 cost: 1.239519721\n",
      " TRAIN ACCURACY: 0.634\n",
      " TEST ACCURACY: 0.461\n",
      "Epoch: 280/400 cost: 1.222665832\n",
      " TRAIN ACCURACY: 0.597\n",
      " TEST ACCURACY: 0.449\n",
      "Epoch: 300/400 cost: 1.226672649\n",
      " TRAIN ACCURACY: 0.646\n",
      " TEST ACCURACY: 0.480\n",
      "Epoch: 320/400 cost: 1.207166252\n",
      " TRAIN ACCURACY: 0.633\n",
      " TEST ACCURACY: 0.465\n",
      "Epoch: 340/400 cost: 1.191653910\n",
      " TRAIN ACCURACY: 0.625\n",
      " TEST ACCURACY: 0.457\n",
      "Epoch: 360/400 cost: 1.197654037\n",
      " TRAIN ACCURACY: 0.640\n",
      " TEST ACCURACY: 0.474\n",
      "Epoch: 380/400 cost: 1.177971800\n",
      " TRAIN ACCURACY: 0.641\n",
      " TEST ACCURACY: 0.480\n",
      "Epoch: 399/400 cost: 1.183995832\n",
      " TRAIN ACCURACY: 0.663\n",
      " TEST ACCURACY: 0.482\n",
      "OPTIMIZATION FINISHED\n"
     ]
    }
   ],
   "source": [
    "# PARAMETERS\n",
    "batch_size      = 256\n",
    "display_step    = 20\n",
    "training_epochs = 400\n",
    "num_batch = int(ntrain/batch_size)+1\n",
    "\n",
    "# LAUNCH THE GRAPH\n",
    "sess = tf.Session()\n",
    "sess.run(init)\n",
    "for epoch in range(training_epochs):\n",
    "    avg_cost = 0.\n",
    "    randpermlist = np.random.permutation(ntrain)\n",
    "    for i in range(num_batch): \n",
    "        randidx  = randpermlist[i*batch_size:min((i+1)*batch_size, ntrain-1)]\n",
    "        batch_xs = trainimg[randidx, :]\n",
    "        batch_ys = trainlabel[randidx, :]                \n",
    "        feeds    = {x: batch_xs, y: batch_ys}\n",
    "        # OPTIMIZE VARIABLES\n",
    "        sess.run(optm, feed_dict=feeds)\n",
    "        # COMPUTE LOSS\n",
    "        avg_cost += sess.run(cost, feed_dict=feeds)/num_batch\n",
    "\n",
    "    # PRINT CURRENT STATUS\n",
    "    if epoch % display_step == 0 or epoch == training_epochs-1:\n",
    "        print (\"Epoch: %03d/%03d cost: %.9f\" % \n",
    "               (epoch, training_epochs, avg_cost))\n",
    "        feeds = {x: trainimg, y: trainlabel}\n",
    "        train_acc = sess.run(accr, feed_dict=feeds)\n",
    "        feeds = {x: testimg, y: testlabel}\n",
    "        test_acc = sess.run(accr, feed_dict=feeds)\n",
    "        print (\" TRAIN ACCURACY: %.3f\" % (train_acc))\n",
    "        print (\" TEST ACCURACY: %.3f\" % (test_acc))\n",
    "print (\"OPTIMIZATION FINISHED\")"
   ]
  }
 ],
 "metadata": {
  "kernelspec": {
   "display_name": "Python 2",
   "language": "python",
   "name": "python2"
  },
  "language_info": {
   "codemirror_mode": {
    "name": "ipython",
    "version": 2
   },
   "file_extension": ".py",
   "mimetype": "text/x-python",
   "name": "python",
   "nbconvert_exporter": "python",
   "pygments_lexer": "ipython2",
   "version": "2.7.6"
  }
 },
 "nbformat": 4,
 "nbformat_minor": 0
}
